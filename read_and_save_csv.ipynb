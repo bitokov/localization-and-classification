{
 "cells": [
  {
   "cell_type": "code",
   "execution_count": 1,
   "metadata": {},
   "outputs": [],
   "source": [
    "import os\n",
    "import csv\n",
    "import fnmatch\n",
    "from PIL import Image"
   ]
  },
  {
   "cell_type": "code",
   "execution_count": 2,
   "metadata": {},
   "outputs": [],
   "source": [
    "dir = os.path.join('D:\\cats_dogs_dataset')\n",
    "dir_train = os.path.join(dir, 'train')\n",
    "dir_val = os.path.join(dir, 'valid')\n",
    "train_csv = 'train.csv'\n",
    "valid_csv = 'valid.csv'"
   ]
  },
  {
   "cell_type": "code",
   "execution_count": 3,
   "metadata": {},
   "outputs": [],
   "source": [
    "def extract_contents(image_dir,name):\n",
    "    im = Image.open(image_dir + \"/\" + name + \".jpg\")\n",
    "    width, height = im.size\n",
    "    f = open(os.path.join(image_dir, name)+\".txt\")\n",
    "    s = f.readline()\n",
    "    l = s.split()\n",
    "    path = os.path.join(image_dir, name)+\".jpg\"\n",
    "    if l[0]=='1':\n",
    "        class_name = \"cat\"\n",
    "        class_id = 1\n",
    "    if l[0]=='2':\n",
    "        class_name = \"dog\"\n",
    "        class_id = 2\n",
    "    xmin, ymin, xmax, ymax = float(l[1]), float(l[2]), float(l[3]), float(l[4])\n",
    "    f.close()\n",
    "         \n",
    "    return  path, height, width, xmin, ymin, xmax, ymax, class_name, class_id"
   ]
  },
  {
   "cell_type": "code",
   "execution_count": 4,
   "metadata": {},
   "outputs": [],
   "source": [
    "with open(train_csv, \"w\", newline='') as train:\n",
    "    writer = csv.writer(train, delimiter=\",\")   \n",
    "    image_dir = os.path.join(dir_train)\n",
    "    listOfFiles = os.listdir(dir_train)\n",
    "    pattern = \"*.txt\"\n",
    "    for entry in listOfFiles:  \n",
    "        if fnmatch.fnmatch(entry, pattern):\n",
    "            name = entry[:-4]\n",
    "            value = extract_contents(image_dir,name)\n",
    "            writer.writerow(value)\n",
    "        \n",
    "\n"
   ]
  },
  {
   "cell_type": "code",
   "execution_count": 5,
   "metadata": {},
   "outputs": [],
   "source": [
    "with open(valid_csv, \"w\", newline='') as valid:\n",
    "    writer = csv.writer(valid, delimiter=\",\")\n",
    "    image_dir = os.path.join(dir_val)\n",
    "    listOfFiles = os.listdir(dir_val)\n",
    "    pattern = \"*.txt\"\n",
    "    for entry in listOfFiles:  \n",
    "        if fnmatch.fnmatch(entry, pattern):\n",
    "            name = entry[:-4]\n",
    "            value = extract_contents(image_dir,name)\n",
    "            writer.writerow(value)"
   ]
  },
  {
   "cell_type": "code",
   "execution_count": null,
   "metadata": {},
   "outputs": [],
   "source": []
  },
  {
   "cell_type": "code",
   "execution_count": null,
   "metadata": {},
   "outputs": [],
   "source": []
  }
 ],
 "metadata": {
  "kernelspec": {
   "display_name": "Python 3",
   "language": "python",
   "name": "python3"
  },
  "language_info": {
   "codemirror_mode": {
    "name": "ipython",
    "version": 3
   },
   "file_extension": ".py",
   "mimetype": "text/x-python",
   "name": "python",
   "nbconvert_exporter": "python",
   "pygments_lexer": "ipython3",
   "version": "3.7.3"
  }
 },
 "nbformat": 4,
 "nbformat_minor": 2
}

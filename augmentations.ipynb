{
 "cells": [
  {
   "cell_type": "code",
   "execution_count": 1,
   "metadata": {},
   "outputs": [],
   "source": [
    "import csv\n",
    "import os\n",
    "import imgaug as ia\n",
    "ia.seed(1)\n",
    "from imgaug.augmentables.bbs import BoundingBox, BoundingBoxesOnImage\n",
    "from imgaug import augmenters as iaa \n",
    "import imageio\n",
    "import numpy as np"
   ]
  },
  {
   "cell_type": "code",
   "execution_count": 2,
   "metadata": {},
   "outputs": [],
   "source": [
    "train_csv = 'train.csv'\n",
    "dir = os.path.join('D:\\cats_dogs_dataset')\n",
    "dir_train = os.path.join(dir, 'train')"
   ]
  },
  {
   "cell_type": "code",
   "execution_count": 3,
   "metadata": {},
   "outputs": [],
   "source": [
    "def bounding_boxes_to_df(bounding_boxes_object):\n",
    "    bounding_boxes_array = bounding_boxes_object.to_xyxy_array()\n",
    "    xmin, ymin, xmax, ymax = bounding_boxes_array[0][0],bounding_boxes_array[0][1],bounding_boxes_array[0][2],bounding_boxes_array[0][3]\n",
    "    return xmin, ymin, xmax, ymax"
   ]
  },
  {
   "cell_type": "code",
   "execution_count": 4,
   "metadata": {},
   "outputs": [],
   "source": [
    "image_augmentations = iaa.SomeOf( 2,\n",
    "    [                                 \n",
    "    iaa.Affine(scale=(0.5, 1.5)),\n",
    "\n",
    "    iaa.Affine(rotate=(-60, 60)),\n",
    "\n",
    "    iaa.Affine(translate_percent={\"x\":(-0.3, 0.3),\"y\":(-0.3, 0.3)}),\n",
    "\n",
    "    iaa.Fliplr(1),\n",
    "\n",
    "    iaa.Multiply((0.5, 1.5)),\n",
    "\n",
    "    iaa.GaussianBlur(sigma=(1.0, 3.0)),\n",
    "    \n",
    "    iaa.AdditiveGaussianNoise(scale=(0.03*255, 0.05*255))\n",
    "\n",
    "])"
   ]
  },
  {
   "cell_type": "code",
   "execution_count": 5,
   "metadata": {},
   "outputs": [],
   "source": [
    "multiple = 3"
   ]
  },
  {
   "cell_type": "code",
   "execution_count": 6,
   "metadata": {},
   "outputs": [
    {
     "name": "stdout",
     "output_type": "stream",
     "text": [
      "box error Egyptian_Mau_100\n"
     ]
    },
    {
     "name": "stderr",
     "output_type": "stream",
     "text": [
      "C:\\Users\\79287\\Anaconda3\\lib\\site-packages\\PIL\\TiffImagePlugin.py:763: UserWarning: Possibly corrupt EXIF data.  Expecting to read 19660800 bytes but only got 0. Skipping tag 0\n",
      "  \" Skipping tag %s\" % (size, len(data), tag))\n",
      "C:\\Users\\79287\\Anaconda3\\lib\\site-packages\\PIL\\TiffImagePlugin.py:763: UserWarning: Possibly corrupt EXIF data.  Expecting to read 787528 bytes but only got 953. Skipping tag 0\n",
      "  \" Skipping tag %s\" % (size, len(data), tag))\n",
      "C:\\Users\\79287\\Anaconda3\\lib\\site-packages\\PIL\\TiffImagePlugin.py:780: UserWarning: Corrupt EXIF data.  Expecting to read 12 bytes but only got 8. \n",
      "  warnings.warn(str(msg))\n"
     ]
    },
    {
     "name": "stdout",
     "output_type": "stream",
     "text": [
      "box error leonberger_123\n",
      "box error British_Shorthair_125\n",
      "box error Siamese_186\n"
     ]
    }
   ],
   "source": [
    "if not os.path.exists('aug_images_path'):\n",
    "    os.mkdir('aug_images_path')\n",
    "\n",
    "with open('aug.csv','w', newline='') as aug:\n",
    "    writer = csv.writer(aug, delimiter=\",\")\n",
    "    for i in range(multiple):\n",
    "        with open(train_csv, 'r', newline='') as r:\n",
    "            reader = csv.reader(r, delimiter=\",\")\n",
    "            image_postfix = str(i)\n",
    "            for row in reader:\n",
    "                aug_row = ()\n",
    "                path, height, width, x0, y0, x1, y1, class_name, class_id = row\n",
    "                filename = os.path.basename(path[:-4])\n",
    "\n",
    "                augmented_path = os.path.join('aug_images_path', filename)+image_postfix+'.jpg'\n",
    "                image = imageio.imread(path)\n",
    "\n",
    "                bounding_box_array = [[x0, y0, x1, y1]]\n",
    "\n",
    "                bounding_box = BoundingBoxesOnImage.from_xyxy_array(bounding_box_array, shape=image.shape)\n",
    "\n",
    "                image_aug, bounding_box_aug = image_augmentations(image=image, bounding_boxes=bounding_box)\n",
    "\n",
    "                bounding_box_aug = bounding_box_aug.remove_out_of_image()\n",
    "\n",
    "                bounding_box_aug = bounding_box_aug.clip_out_of_image()\n",
    "                \n",
    "                try:\n",
    "                    x0, y0, x1, y1 = bounding_boxes_to_df(bounding_box_aug)\n",
    "                except IndexError:\n",
    "                    print('box error', filename )\n",
    "                    continue\n",
    "                \n",
    "\n",
    "                imageio.imwrite(augmented_path, image_aug)\n",
    "\n",
    "                \n",
    "\n",
    "\n",
    "                aug_row=augmented_path, image_aug.shape[0], image_aug.shape[1], x0, y0, x1, y1, class_name, class_id\n",
    "                writer.writerow(aug_row)\n",
    "                if i == 0:\n",
    "                    writer.writerow(row)"
   ]
  },
  {
   "cell_type": "code",
   "execution_count": null,
   "metadata": {},
   "outputs": [],
   "source": []
  },
  {
   "cell_type": "code",
   "execution_count": null,
   "metadata": {},
   "outputs": [],
   "source": []
  }
 ],
 "metadata": {
  "kernelspec": {
   "display_name": "Python 3",
   "language": "python",
   "name": "python3"
  },
  "language_info": {
   "codemirror_mode": {
    "name": "ipython",
    "version": 3
   },
   "file_extension": ".py",
   "mimetype": "text/x-python",
   "name": "python",
   "nbconvert_exporter": "python",
   "pygments_lexer": "ipython3",
   "version": "3.7.3"
  }
 },
 "nbformat": 4,
 "nbformat_minor": 2
}
